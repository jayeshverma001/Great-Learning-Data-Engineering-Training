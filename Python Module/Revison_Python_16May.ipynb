{
 "cells": [
  {
   "cell_type": "code",
   "execution_count": 1,
   "id": "6e5e80f0",
   "metadata": {},
   "outputs": [],
   "source": [
    "#Chaning class attributes\n",
    "class MyClass:\n",
    "    count = 0\n",
    "MyClass.count = 10"
   ]
  },
  {
   "cell_type": "code",
   "execution_count": 3,
   "id": "d6e16213",
   "metadata": {},
   "outputs": [],
   "source": [
    "class MyClass:\n",
    "    def __init__(self):\n",
    "        self.value = 0\n",
    "obj = MyClass()\n",
    "obj.value = 10"
   ]
  },
  {
   "cell_type": "code",
   "execution_count": 7,
   "id": "6b98fe53",
   "metadata": {},
   "outputs": [
    {
     "name": "stdout",
     "output_type": "stream",
     "text": [
      "ThankYou\n"
     ]
    }
   ],
   "source": [
    "class MyClass:\n",
    "    def my_method(self):\n",
    "        print(\"Hello,Everyone!\")\n",
    "class MySubclass(MyClass):\n",
    "    def my_method(self):\n",
    "        print(\"ThankYou\")\n",
    "obj = MySubclass()\n",
    "obj.my_method()"
   ]
  },
  {
   "cell_type": "code",
   "execution_count": 8,
   "id": "22b4ef94",
   "metadata": {},
   "outputs": [
    {
     "name": "stdout",
     "output_type": "stream",
     "text": [
      "ThankYou\n"
     ]
    }
   ],
   "source": [
    "class MyClass:\n",
    "    def my_method(self):\n",
    "        print(\"Hello,Everyone!\")\n",
    "obj = MyClass()\n",
    "obj.my_method = lambda:print(\"ThankYou\")\n",
    "obj.my_method()"
   ]
  },
  {
   "cell_type": "code",
   "execution_count": 10,
   "id": "735a6889",
   "metadata": {},
   "outputs": [
    {
     "name": "stdout",
     "output_type": "stream",
     "text": [
      "30\n"
     ]
    }
   ],
   "source": [
    "#Polymorphism\n",
    "class sample:\n",
    "    def __len__(self):\n",
    "        return 30\n",
    "if __name__ == \"__main__\":\n",
    "    str = sample()\n",
    "    print(len(str))"
   ]
  },
  {
   "cell_type": "code",
   "execution_count": 12,
   "id": "76237fcf",
   "metadata": {},
   "outputs": [
    {
     "name": "stdout",
     "output_type": "stream",
     "text": [
      "4 6\n"
     ]
    }
   ],
   "source": [
    "class Vector:\n",
    "    def __init__(self,x,y):\n",
    "        self.x = x\n",
    "        self.y = y\n",
    "    def __add__(self,other):\n",
    "        return Vector(self.x + other.x,self.y + other.y)\n",
    "v1 = Vector(1,2)\n",
    "v2 = Vector(3,4)\n",
    "v3 = v1 + v2\n",
    "print(v3.x,v3.y)"
   ]
  },
  {
   "cell_type": "code",
   "execution_count": 13,
   "id": "4381a461",
   "metadata": {},
   "outputs": [
    {
     "name": "stdout",
     "output_type": "stream",
     "text": [
      "Name: John, Age: 30\n",
      "Name: John, Age: 35\n",
      "35\n"
     ]
    }
   ],
   "source": [
    "#Encapsulation\n",
    "class Person:\n",
    "    def __init__(self,name,age):\n",
    "        self.name = name\n",
    "        self.__age = age\n",
    "    \n",
    "    def get_age(self):\n",
    "        return self.__age\n",
    "    \n",
    "    def set_age(self,age):\n",
    "        if age > 0 and age < 120:\n",
    "            self.__age = age\n",
    "    \n",
    "    def display(self):\n",
    "        print(f\"Name: {self.name}, Age: {self.__age}\")\n",
    "\n",
    "person = Person(\"John\",30)\n",
    "person.display()\n",
    "person.set_age(35)\n",
    "person.display()\n",
    "print(person.get_age())"
   ]
  },
  {
   "cell_type": "code",
   "execution_count": 19,
   "id": "3caffee2",
   "metadata": {},
   "outputs": [
    {
     "name": "stdout",
     "output_type": "stream",
     "text": [
      "Subject is History\n",
      "Subject is Civics\n",
      "Subject is Geography\n",
      "Subject is Economics\n"
     ]
    }
   ],
   "source": [
    "#Abstraction\n",
    "from abc import ABC,abstractmethod\n",
    "\n",
    "class Subject(ABC):\n",
    "    @abstractmethod\n",
    "    def subject(self):\n",
    "        pass\n",
    "\n",
    "class History(Subject):\n",
    "    def subject(self):\n",
    "        print(\"Subject is History\")\n",
    "\n",
    "class Civics(Subject):\n",
    "    def subject(self):\n",
    "        print(\"Subject is Civics\")\n",
    "        \n",
    "class Geography(Subject):\n",
    "    def subject(self):\n",
    "        print(\"Subject is Geography\")\n",
    "        \n",
    "class Economics(Subject):\n",
    "    def subject(self):\n",
    "        print(\"Subject is Economics\")\n",
    "        \n",
    "history = History()\n",
    "history.subject()\n",
    "civics = Civics()\n",
    "civics.subject()\n",
    "geography = Geography()\n",
    "geography.subject()\n",
    "economics = Economics()\n",
    "economics.subject()"
   ]
  },
  {
   "cell_type": "code",
   "execution_count": null,
   "id": "97fe1381",
   "metadata": {},
   "outputs": [],
   "source": [
    "#Method overriding"
   ]
  },
  {
   "cell_type": "code",
   "execution_count": null,
   "id": "7501da0b",
   "metadata": {},
   "outputs": [],
   "source": [
    "#method overloading"
   ]
  },
  {
   "cell_type": "code",
   "execution_count": 20,
   "id": "6d387b6f",
   "metadata": {},
   "outputs": [],
   "source": [
    "#Numpy \n",
    "import numpy as np"
   ]
  },
  {
   "cell_type": "code",
   "execution_count": 22,
   "id": "6b66f4ff",
   "metadata": {},
   "outputs": [],
   "source": [
    "#defining a list of different car companies or string element\n",
    "arr_str = [\"Mercedes\",\"Bmw\",\"Audi\",\"Ferrari\",\"Tesla\"]\n",
    "#defining a list of number of cyliners in car or numerical elements\n",
    "arr_num = [5,4,6,7,3]"
   ]
  },
  {
   "cell_type": "code",
   "execution_count": 24,
   "id": "9c8eb4bd",
   "metadata": {},
   "outputs": [
    {
     "name": "stdout",
     "output_type": "stream",
     "text": [
      "Numpy Array (arr_str): ['Mercedes' 'Bmw' 'Audi' 'Ferrari' 'Tesla']\n",
      "Numpy Array (arr_num): [5 4 6 7 3]\n"
     ]
    }
   ],
   "source": [
    "#converting list to numpy array\n",
    "np_arr_str = np.array(arr_str)\n",
    "np_arr_num = np.array(arr_num)\n",
    "\n",
    "#checking the output\n",
    "print(\"Numpy Array (arr_str):\",np_arr_str)\n",
    "print(\"Numpy Array (arr_num):\",np_arr_num)"
   ]
  },
  {
   "cell_type": "code",
   "execution_count": 26,
   "id": "3f2dd496",
   "metadata": {},
   "outputs": [
    {
     "name": "stdout",
     "output_type": "stream",
     "text": [
      "data type of arr_str:  <class 'list'>\n",
      "data type of arr_num:  <class 'list'>\n",
      "data type of np_arr_str:  <class 'numpy.ndarray'>\n",
      "data type of np_arr_num:  <class 'numpy.ndarray'>\n"
     ]
    }
   ],
   "source": [
    "#printing the data type of lists\n",
    "print(\"data type of arr_str: \",type(arr_str))\n",
    "print(\"data type of arr_num: \",type(arr_num))\n",
    "\n",
    "#printing the data type after converion of lists to array\n",
    "print(\"data type of np_arr_str: \",type(np_arr_str))\n",
    "print(\"data type of np_arr_num: \",type(np_arr_num))\n"
   ]
  },
  {
   "cell_type": "code",
   "execution_count": 30,
   "id": "1bfa179d",
   "metadata": {},
   "outputs": [
    {
     "name": "stdout",
     "output_type": "stream",
     "text": [
      "[[1 2 2]\n",
      " [3 4 5]\n",
      " [5 6 7]]\n",
      "Data type of matrix:  <class 'numpy.ndarray'>\n"
     ]
    }
   ],
   "source": [
    "#Numpy matrix\n",
    "matrix = np.array([[1,2,2],[3,4,5],[5,6,7]])\n",
    "print(matrix)\n",
    "print(\"Data type of matrix: \",type(matrix))"
   ]
  },
  {
   "cell_type": "code",
   "execution_count": null,
   "id": "444d30e2",
   "metadata": {},
   "outputs": [],
   "source": [
    "#Numpy functions"
   ]
  }
 ],
 "metadata": {
  "kernelspec": {
   "display_name": "Python 3 (ipykernel)",
   "language": "python",
   "name": "python3"
  },
  "language_info": {
   "codemirror_mode": {
    "name": "ipython",
    "version": 3
   },
   "file_extension": ".py",
   "mimetype": "text/x-python",
   "name": "python",
   "nbconvert_exporter": "python",
   "pygments_lexer": "ipython3",
   "version": "3.11.5"
  }
 },
 "nbformat": 4,
 "nbformat_minor": 5
}
